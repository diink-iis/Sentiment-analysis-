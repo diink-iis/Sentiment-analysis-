{
 "cells": [
  {
   "cell_type": "markdown",
   "id": "6a645936",
   "metadata": {},
   "source": [
    "## Задача: Реализовать сентимент-анализ русского текста с использованием классического ML"
   ]
  },
  {
   "cell_type": "markdown",
   "id": "08814f19",
   "metadata": {},
   "source": [
    "### Импорт библиотек"
   ]
  },
  {
   "cell_type": "code",
   "execution_count": 1,
   "id": "aa4bd484",
   "metadata": {},
   "outputs": [],
   "source": [
    "import pandas as pd\n",
    "import numpy as np\n",
    "import string\n",
    "import seaborn as sns\n",
    "import matplotlib.pyplot as plt\n",
    "from tqdm import tqdm_notebook as tqdm\n",
    "import pymorphy2\n",
    "from pymorphy2 import MorphAnalyzer\n",
    "\n",
    "from xgboost import XGBClassifier\n",
    "import pickle\n",
    "\n",
    "#Scikit-learn\n",
    "from sklearn.model_selection import train_test_split, GridSearchCV\n",
    "from sklearn.pipeline import Pipeline\n",
    "from sklearn.tree import DecisionTreeClassifier\n",
    "from sklearn.linear_model import LogisticRegression\n",
    "from sklearn.ensemble import RandomForestClassifier\n",
    "from sklearn.svm import SVC\n",
    "from sklearn.metrics import confusion_matrix, classification_report, accuracy_score, precision_score, recall_score, \n",
    "                            f1_score, roc_auc_score\n",
    "from sklearn.feature_extraction.text import TfidfVectorizer\n",
    "\n",
    "#NLTK\n",
    "import nltk\n",
    "from nltk.corpus import stopwords"
   ]
  },
  {
   "cell_type": "markdown",
   "id": "d06e13dd",
   "metadata": {},
   "source": [
    "# Preprocessing"
   ]
  },
  {
   "cell_type": "markdown",
   "id": "0bd16d24",
   "metadata": {},
   "source": [
    "Для начала импортируем данные и посмотрим за них."
   ]
  },
  {
   "cell_type": "code",
   "execution_count": 2,
   "id": "514e7ec0",
   "metadata": {},
   "outputs": [
    {
     "data": {
      "text/html": [
       "<div>\n",
       "<style scoped>\n",
       "    .dataframe tbody tr th:only-of-type {\n",
       "        vertical-align: middle;\n",
       "    }\n",
       "\n",
       "    .dataframe tbody tr th {\n",
       "        vertical-align: top;\n",
       "    }\n",
       "\n",
       "    .dataframe thead th {\n",
       "        text-align: right;\n",
       "    }\n",
       "</style>\n",
       "<table border=\"1\" class=\"dataframe\">\n",
       "  <thead>\n",
       "    <tr style=\"text-align: right;\">\n",
       "      <th></th>\n",
       "      <th>text</th>\n",
       "      <th>sentiment</th>\n",
       "    </tr>\n",
       "  </thead>\n",
       "  <tbody>\n",
       "    <tr>\n",
       "      <th>0</th>\n",
       "      <td>d touch просто восхитительный вещь заряд держа...</td>\n",
       "      <td>1</td>\n",
       "    </tr>\n",
       "    <tr>\n",
       "      <th>1</th>\n",
       "      <td>отключаться температура близкий нуль непонятно...</td>\n",
       "      <td>1</td>\n",
       "    </tr>\n",
       "    <tr>\n",
       "      <th>2</th>\n",
       "      <td>apple окончательно решить заморачиваться делат...</td>\n",
       "      <td>0</td>\n",
       "    </tr>\n",
       "    <tr>\n",
       "      <th>3</th>\n",
       "      <td>постараться наиболее ёмко коротко описать осно...</td>\n",
       "      <td>1</td>\n",
       "    </tr>\n",
       "    <tr>\n",
       "      <th>4</th>\n",
       "      <td>достойный телефон пользоваться один удовольствие</td>\n",
       "      <td>1</td>\n",
       "    </tr>\n",
       "    <tr>\n",
       "      <th>5</th>\n",
       "      <td>s gold gb</td>\n",
       "      <td>1</td>\n",
       "    </tr>\n",
       "    <tr>\n",
       "      <th>6</th>\n",
       "      <td>первый айфон сказать честно эппл ранее рука де...</td>\n",
       "      <td>1</td>\n",
       "    </tr>\n",
       "    <tr>\n",
       "      <th>7</th>\n",
       "      <td>очень понравиться этот модель вопервое классны...</td>\n",
       "      <td>1</td>\n",
       "    </tr>\n",
       "    <tr>\n",
       "      <th>8</th>\n",
       "      <td>долгий время пользоваться iphone s gb устраива...</td>\n",
       "      <td>1</td>\n",
       "    </tr>\n",
       "    <tr>\n",
       "      <th>9</th>\n",
       "      <td>ранний samsung galaxy alpha smgf gb купить iph...</td>\n",
       "      <td>1</td>\n",
       "    </tr>\n",
       "  </tbody>\n",
       "</table>\n",
       "</div>"
      ],
      "text/plain": [
       "                                                text  sentiment\n",
       "0  d touch просто восхитительный вещь заряд держа...          1\n",
       "1  отключаться температура близкий нуль непонятно...          1\n",
       "2  apple окончательно решить заморачиваться делат...          0\n",
       "3  постараться наиболее ёмко коротко описать осно...          1\n",
       "4   достойный телефон пользоваться один удовольствие          1\n",
       "5                                          s gold gb          1\n",
       "6  первый айфон сказать честно эппл ранее рука де...          1\n",
       "7  очень понравиться этот модель вопервое классны...          1\n",
       "8  долгий время пользоваться iphone s gb устраива...          1\n",
       "9  ранний samsung galaxy alpha smgf gb купить iph...          1"
      ]
     },
     "execution_count": 2,
     "metadata": {},
     "output_type": "execute_result"
    }
   ],
   "source": [
    "df = pd.read_json('DataSet_pred.json')\n",
    "df.head(10)"
   ]
  },
  {
   "cell_type": "markdown",
   "id": "a655b828",
   "metadata": {},
   "source": [
    "Проверим датасет на наличие пропущенных значений."
   ]
  },
  {
   "cell_type": "code",
   "execution_count": 8,
   "id": "bb8f0160",
   "metadata": {},
   "outputs": [
    {
     "data": {
      "text/plain": [
       "array([1, 0], dtype=int64)"
      ]
     },
     "execution_count": 8,
     "metadata": {},
     "output_type": "execute_result"
    }
   ],
   "source": [
    "df['sentiment'].unique()"
   ]
  },
  {
   "cell_type": "code",
   "execution_count": 9,
   "id": "822b2552",
   "metadata": {},
   "outputs": [
    {
     "data": {
      "text/plain": [
       "text         0\n",
       "sentiment    0\n",
       "dtype: int64"
      ]
     },
     "execution_count": 9,
     "metadata": {},
     "output_type": "execute_result"
    }
   ],
   "source": [
    "df.isnull().sum()"
   ]
  },
  {
   "cell_type": "markdown",
   "id": "c9d3fc43",
   "metadata": {},
   "source": [
    "Мы видим присутствие пропущенных значений, необходимо их удалить."
   ]
  },
  {
   "cell_type": "code",
   "execution_count": 26,
   "id": "9bcb7bc4",
   "metadata": {},
   "outputs": [],
   "source": [
    "df = df[df['text'].notna()]"
   ]
  },
  {
   "cell_type": "code",
   "execution_count": 27,
   "id": "ce2a75cf",
   "metadata": {},
   "outputs": [
    {
     "data": {
      "text/plain": [
       "text         0\n",
       "sentiment    0\n",
       "dtype: int64"
      ]
     },
     "execution_count": 27,
     "metadata": {},
     "output_type": "execute_result"
    }
   ],
   "source": [
    "df.isnull().sum()"
   ]
  },
  {
   "cell_type": "markdown",
   "id": "b94f6eae",
   "metadata": {},
   "source": [
    "Избавились от пропущенных значений, теперь можно продолжать предобработку"
   ]
  },
  {
   "cell_type": "markdown",
   "id": "7be5ab7f",
   "metadata": {},
   "source": [
    "Функция предобработки данных."
   ]
  },
  {
   "cell_type": "code",
   "execution_count": 12,
   "id": "b24c71b6",
   "metadata": {},
   "outputs": [],
   "source": [
    "def preprocessing(texts):\n",
    "    new_text = []\n",
    "    for i in tqdm(range(len(texts))):\n",
    "        text = texts[i]\n",
    "        stop_free = \" \".join([i for i in text.lower().split() if i not in stop_words])\n",
    "        punc_free = ''.join(ch for ch in stop_free if ch not in spec_chars)\n",
    "        lem_text = \" \".join([lemma.parse(word)[0].normal_form for word in punc_free.split(' ')])\n",
    "        new_text.append(lem_text)\n",
    "    return new_text"
   ]
  },
  {
   "cell_type": "code",
   "execution_count": null,
   "id": "be7d4c2c",
   "metadata": {},
   "outputs": [
    {
     "name": "stderr",
     "output_type": "stream",
     "text": [
      "C:\\Users\\isaev\\AppData\\Local\\Temp/ipykernel_8464/623599038.py:3: TqdmDeprecationWarning: This function will be removed in tqdm==5.0.0\n",
      "Please use `tqdm.notebook.tqdm` instead of `tqdm.tqdm_notebook`\n",
      "  for i in tqdm(range(len(texts))):\n"
     ]
    },
    {
     "data": {
      "application/vnd.jupyter.widget-view+json": {
       "model_id": "47c4eca9ff2e4b2783389aabe7cc729a",
       "version_major": 2,
       "version_minor": 0
      },
      "text/plain": [
       "  0%|          | 0/462066 [00:00<?, ?it/s]"
      ]
     },
     "metadata": {},
     "output_type": "display_data"
    }
   ],
   "source": [
    "#Запуск функции предобработки\n",
    "nltk.download(\"stopwords\")\n",
    "stop_words = stopwords.words('russian')\n",
    "lemma = pymorphy2.MorphAnalyzer()\n",
    "spec_chars = string.punctuation + string.digits + '\\n\\xa0«»\\t-—–“”→...'\n",
    "texts = df.text.values.tolist()\n",
    "df.text = preprocessing(texts)"
   ]
  },
  {
   "cell_type": "markdown",
   "id": "dade4e04",
   "metadata": {},
   "source": [
    "# Machine Learning"
   ]
  },
  {
   "cell_type": "code",
   "execution_count": 3,
   "id": "9fd5e5ea",
   "metadata": {},
   "outputs": [],
   "source": [
    "model_classes = [LogisticRegression(), DecisionTreeClassifier(), RandomForestClassifier(), XGBClassifier()]\n",
    "\n",
    "model_names = ['LogisticRegression','DecisionTree', 'Random Forest',  'XGBoost']\n",
    "\n",
    "metrics = {'F1_Score':f1_score, 'Accuracy': accuracy_score, 'Precision': precision_score, 'Recall': recall_score}\n",
    "\n",
    "parameters_logregr = [{'GS_CV_logregr':[LogisticRegression()], 'GS_CV_logregr__C': [0.0001, 0.001, 0.01, 0.1, 1],\n",
    "                       'GS_CV_logregr__random_state': [50]}]\n",
    "parameters_tree = [{'GS_CV_tree':[DecisionTreeClassifier()], 'GS_CV_tree__criterion':[\"entropy\"],\n",
    "                    'GS_CV_tree__random_state': [50]}]\n",
    "parameters_rf = [{'GS_CV_RF':[RandomForestClassifier()], 'GS_CV_RF__n_estimators': [200, 500],\n",
    "                  'GS_CV_RF__max_depth': [6, 9], 'GS_CV_RF__random_state': [50]}]\n",
    "parameters_xgb = [{'GS_CV_xgb':[XGBClassifier()], 'GS_CV_xgb__learning_rate': [0.9],\n",
    "                   'GS_CV_xgb__n_estimators': [200, 500], 'GS_CV_xgb__max_depth': [6, 9], 'GS_CV_xgb__random_state': [50],\n",
    "                   'GS_CV_xgb__eval_metric':[\"mlogloss\"], 'GS_CV_xgb__use_label_encoder': [\"False\"]}]\n",
    "\n",
    "compare = pd.DataFrame([])"
   ]
  },
  {
   "cell_type": "markdown",
   "id": "87c02f89",
   "metadata": {},
   "source": [
    "Split into train and test."
   ]
  },
  {
   "cell_type": "code",
   "execution_count": 4,
   "id": "88d98059",
   "metadata": {},
   "outputs": [],
   "source": [
    "X = df.text\n",
    "y = df.sentiment\n",
    "\n",
    "X_train, X_test, y_train, y_test = train_test_split(X, y, test_size = 0.33, random_state = 42)"
   ]
  },
  {
   "cell_type": "markdown",
   "id": "0f6c672c",
   "metadata": {},
   "source": [
    "Функция вычисления метрик."
   ]
  },
  {
   "cell_type": "code",
   "execution_count": 5,
   "id": "ebb49122",
   "metadata": {},
   "outputs": [],
   "source": [
    "def calculate_metrics(y_test, y_pred, metrics={}):\n",
    "    if len(metrics) == 0:\n",
    "        raise ValueError('metrics are empty')\n",
    "        \n",
    "    results = dict()\n",
    "    for key in metrics:\n",
    "        results[key] = metrics[key](y_test, y_pred)\n",
    "    \n",
    "    return results"
   ]
  },
  {
   "cell_type": "markdown",
   "id": "fe6b0e33",
   "metadata": {},
   "source": [
    "### Настраиваем гиперпараметры для каждой модели и вычисляем метрики."
   ]
  },
  {
   "cell_type": "markdown",
   "id": "ff2f929b",
   "metadata": {},
   "source": [
    "#### 1. LogisticRegression"
   ]
  },
  {
   "cell_type": "code",
   "execution_count": 9,
   "id": "cccaa8aa",
   "metadata": {},
   "outputs": [],
   "source": [
    "pipeline = Pipeline([('TF-IDF', TfidfVectorizer(min_df=0.01, max_df=0.9)),\n",
    "                     ('GS_CV_logregr', LogisticRegression())])\n",
    "    \n",
    "grid_search = GridSearchCV(pipeline, param_grid=parameters_logregr, cv=5, scoring=\"accuracy\")\n",
    "grid_search.fit(X_train, y_train)\n",
    "\n",
    "best_clf = grid_search.best_estimator_\n",
    "y_predict_logreg = best_clf.predict(X_test)\n",
    "    \n",
    "res_logregr = calculate_metrics(y_test, y_predict_logreg, metrics=metrics)  \n",
    "compare = compare.append(res_logregr, ignore_index=True)"
   ]
  },
  {
   "cell_type": "markdown",
   "id": "d0f2b6bd",
   "metadata": {},
   "source": [
    "#### 2. DecisionTreeClassifier"
   ]
  },
  {
   "cell_type": "code",
   "execution_count": 8,
   "id": "09c79df5",
   "metadata": {},
   "outputs": [],
   "source": [
    "pipeline = Pipeline([('TF-IDF', TfidfVectorizer(min_df=0.01, max_df=0.9)),\n",
    "                     ('GS_CV_tree', DecisionTreeClassifier())])\n",
    "    \n",
    "grid_search_ = GridSearchCV(pipeline, param_grid=parameters_tree, cv=5, scoring=\"accuracy\")\n",
    "grid_search.fit(X_train, y_train)\n",
    "\n",
    "best_clf = grid_search.best_estimator_\n",
    "y_predict_tree = best_clf.predict(X_test)\n",
    "    \n",
    "res_tree = calculate_metrics(y_test, y_predict_tree, metrics=metrics)  \n",
    "compare = compare.append(res_tree, ignore_index=True)"
   ]
  },
  {
   "cell_type": "markdown",
   "id": "6d22ce47",
   "metadata": {},
   "source": [
    "#### 3. RandomForestClassifier"
   ]
  },
  {
   "cell_type": "code",
   "execution_count": 10,
   "id": "0ec514c7",
   "metadata": {},
   "outputs": [],
   "source": [
    "pipeline = Pipeline([('TF-IDF', TfidfVectorizer(min_df=0.01, max_df=0.9)),\n",
    "                     ('GS_CV_RF', RandomForestClassifier())])\n",
    "    \n",
    "grid_search = GridSearchCV(pipeline, param_grid=parameters_rf, cv=5, scoring=\"accuracy\")\n",
    "grid_search.fit(X_train, y_train)\n",
    "\n",
    "best_clf = grid_search.best_estimator_\n",
    "y_predict_rf = best_clf.predict(X_test)\n",
    "    \n",
    "res_rf = calculate_metrics(y_test, y_predict_rf, metrics=metrics)  \n",
    "compare = compare.append(res_rf, ignore_index=True)"
   ]
  },
  {
   "cell_type": "markdown",
   "id": "c9c20288",
   "metadata": {},
   "source": [
    "#### 4. XGBoost Classifier"
   ]
  },
  {
   "cell_type": "code",
   "execution_count": 6,
   "id": "8fa31112",
   "metadata": {
    "scrolled": true
   },
   "outputs": [
    {
     "name": "stderr",
     "output_type": "stream",
     "text": [
      "C:\\Users\\isaev\\miniconda3\\lib\\site-packages\\xgboost\\sklearn.py:1224: UserWarning: The use of label encoder in XGBClassifier is deprecated and will be removed in a future release. To remove this warning, do the following: 1) Pass option use_label_encoder=False when constructing XGBClassifier object; and 2) Encode your labels (y) as integers starting with 0, i.e. 0, 1, 2, ..., [num_class - 1].\n",
      "  warnings.warn(label_encoder_deprecation_msg, UserWarning)\n",
      "C:\\Users\\isaev\\miniconda3\\lib\\site-packages\\xgboost\\sklearn.py:1224: UserWarning: The use of label encoder in XGBClassifier is deprecated and will be removed in a future release. To remove this warning, do the following: 1) Pass option use_label_encoder=False when constructing XGBClassifier object; and 2) Encode your labels (y) as integers starting with 0, i.e. 0, 1, 2, ..., [num_class - 1].\n",
      "  warnings.warn(label_encoder_deprecation_msg, UserWarning)\n",
      "C:\\Users\\isaev\\miniconda3\\lib\\site-packages\\xgboost\\sklearn.py:1224: UserWarning: The use of label encoder in XGBClassifier is deprecated and will be removed in a future release. To remove this warning, do the following: 1) Pass option use_label_encoder=False when constructing XGBClassifier object; and 2) Encode your labels (y) as integers starting with 0, i.e. 0, 1, 2, ..., [num_class - 1].\n",
      "  warnings.warn(label_encoder_deprecation_msg, UserWarning)\n",
      "C:\\Users\\isaev\\miniconda3\\lib\\site-packages\\xgboost\\sklearn.py:1224: UserWarning: The use of label encoder in XGBClassifier is deprecated and will be removed in a future release. To remove this warning, do the following: 1) Pass option use_label_encoder=False when constructing XGBClassifier object; and 2) Encode your labels (y) as integers starting with 0, i.e. 0, 1, 2, ..., [num_class - 1].\n",
      "  warnings.warn(label_encoder_deprecation_msg, UserWarning)\n",
      "C:\\Users\\isaev\\miniconda3\\lib\\site-packages\\xgboost\\sklearn.py:1224: UserWarning: The use of label encoder in XGBClassifier is deprecated and will be removed in a future release. To remove this warning, do the following: 1) Pass option use_label_encoder=False when constructing XGBClassifier object; and 2) Encode your labels (y) as integers starting with 0, i.e. 0, 1, 2, ..., [num_class - 1].\n",
      "  warnings.warn(label_encoder_deprecation_msg, UserWarning)\n",
      "C:\\Users\\isaev\\miniconda3\\lib\\site-packages\\xgboost\\sklearn.py:1224: UserWarning: The use of label encoder in XGBClassifier is deprecated and will be removed in a future release. To remove this warning, do the following: 1) Pass option use_label_encoder=False when constructing XGBClassifier object; and 2) Encode your labels (y) as integers starting with 0, i.e. 0, 1, 2, ..., [num_class - 1].\n",
      "  warnings.warn(label_encoder_deprecation_msg, UserWarning)\n",
      "C:\\Users\\isaev\\miniconda3\\lib\\site-packages\\xgboost\\sklearn.py:1224: UserWarning: The use of label encoder in XGBClassifier is deprecated and will be removed in a future release. To remove this warning, do the following: 1) Pass option use_label_encoder=False when constructing XGBClassifier object; and 2) Encode your labels (y) as integers starting with 0, i.e. 0, 1, 2, ..., [num_class - 1].\n",
      "  warnings.warn(label_encoder_deprecation_msg, UserWarning)\n",
      "C:\\Users\\isaev\\miniconda3\\lib\\site-packages\\xgboost\\sklearn.py:1224: UserWarning: The use of label encoder in XGBClassifier is deprecated and will be removed in a future release. To remove this warning, do the following: 1) Pass option use_label_encoder=False when constructing XGBClassifier object; and 2) Encode your labels (y) as integers starting with 0, i.e. 0, 1, 2, ..., [num_class - 1].\n",
      "  warnings.warn(label_encoder_deprecation_msg, UserWarning)\n",
      "C:\\Users\\isaev\\miniconda3\\lib\\site-packages\\xgboost\\sklearn.py:1224: UserWarning: The use of label encoder in XGBClassifier is deprecated and will be removed in a future release. To remove this warning, do the following: 1) Pass option use_label_encoder=False when constructing XGBClassifier object; and 2) Encode your labels (y) as integers starting with 0, i.e. 0, 1, 2, ..., [num_class - 1].\n",
      "  warnings.warn(label_encoder_deprecation_msg, UserWarning)\n",
      "C:\\Users\\isaev\\miniconda3\\lib\\site-packages\\xgboost\\sklearn.py:1224: UserWarning: The use of label encoder in XGBClassifier is deprecated and will be removed in a future release. To remove this warning, do the following: 1) Pass option use_label_encoder=False when constructing XGBClassifier object; and 2) Encode your labels (y) as integers starting with 0, i.e. 0, 1, 2, ..., [num_class - 1].\n",
      "  warnings.warn(label_encoder_deprecation_msg, UserWarning)\n",
      "C:\\Users\\isaev\\miniconda3\\lib\\site-packages\\xgboost\\sklearn.py:1224: UserWarning: The use of label encoder in XGBClassifier is deprecated and will be removed in a future release. To remove this warning, do the following: 1) Pass option use_label_encoder=False when constructing XGBClassifier object; and 2) Encode your labels (y) as integers starting with 0, i.e. 0, 1, 2, ..., [num_class - 1].\n",
      "  warnings.warn(label_encoder_deprecation_msg, UserWarning)\n",
      "C:\\Users\\isaev\\miniconda3\\lib\\site-packages\\xgboost\\sklearn.py:1224: UserWarning: The use of label encoder in XGBClassifier is deprecated and will be removed in a future release. To remove this warning, do the following: 1) Pass option use_label_encoder=False when constructing XGBClassifier object; and 2) Encode your labels (y) as integers starting with 0, i.e. 0, 1, 2, ..., [num_class - 1].\n",
      "  warnings.warn(label_encoder_deprecation_msg, UserWarning)\n",
      "C:\\Users\\isaev\\miniconda3\\lib\\site-packages\\xgboost\\sklearn.py:1224: UserWarning: The use of label encoder in XGBClassifier is deprecated and will be removed in a future release. To remove this warning, do the following: 1) Pass option use_label_encoder=False when constructing XGBClassifier object; and 2) Encode your labels (y) as integers starting with 0, i.e. 0, 1, 2, ..., [num_class - 1].\n",
      "  warnings.warn(label_encoder_deprecation_msg, UserWarning)\n",
      "C:\\Users\\isaev\\miniconda3\\lib\\site-packages\\xgboost\\sklearn.py:1224: UserWarning: The use of label encoder in XGBClassifier is deprecated and will be removed in a future release. To remove this warning, do the following: 1) Pass option use_label_encoder=False when constructing XGBClassifier object; and 2) Encode your labels (y) as integers starting with 0, i.e. 0, 1, 2, ..., [num_class - 1].\n",
      "  warnings.warn(label_encoder_deprecation_msg, UserWarning)\n",
      "C:\\Users\\isaev\\miniconda3\\lib\\site-packages\\xgboost\\sklearn.py:1224: UserWarning: The use of label encoder in XGBClassifier is deprecated and will be removed in a future release. To remove this warning, do the following: 1) Pass option use_label_encoder=False when constructing XGBClassifier object; and 2) Encode your labels (y) as integers starting with 0, i.e. 0, 1, 2, ..., [num_class - 1].\n",
      "  warnings.warn(label_encoder_deprecation_msg, UserWarning)\n",
      "C:\\Users\\isaev\\miniconda3\\lib\\site-packages\\xgboost\\sklearn.py:1224: UserWarning: The use of label encoder in XGBClassifier is deprecated and will be removed in a future release. To remove this warning, do the following: 1) Pass option use_label_encoder=False when constructing XGBClassifier object; and 2) Encode your labels (y) as integers starting with 0, i.e. 0, 1, 2, ..., [num_class - 1].\n",
      "  warnings.warn(label_encoder_deprecation_msg, UserWarning)\n",
      "C:\\Users\\isaev\\miniconda3\\lib\\site-packages\\xgboost\\sklearn.py:1224: UserWarning: The use of label encoder in XGBClassifier is deprecated and will be removed in a future release. To remove this warning, do the following: 1) Pass option use_label_encoder=False when constructing XGBClassifier object; and 2) Encode your labels (y) as integers starting with 0, i.e. 0, 1, 2, ..., [num_class - 1].\n",
      "  warnings.warn(label_encoder_deprecation_msg, UserWarning)\n",
      "C:\\Users\\isaev\\miniconda3\\lib\\site-packages\\xgboost\\sklearn.py:1224: UserWarning: The use of label encoder in XGBClassifier is deprecated and will be removed in a future release. To remove this warning, do the following: 1) Pass option use_label_encoder=False when constructing XGBClassifier object; and 2) Encode your labels (y) as integers starting with 0, i.e. 0, 1, 2, ..., [num_class - 1].\n",
      "  warnings.warn(label_encoder_deprecation_msg, UserWarning)\n",
      "C:\\Users\\isaev\\miniconda3\\lib\\site-packages\\xgboost\\sklearn.py:1224: UserWarning: The use of label encoder in XGBClassifier is deprecated and will be removed in a future release. To remove this warning, do the following: 1) Pass option use_label_encoder=False when constructing XGBClassifier object; and 2) Encode your labels (y) as integers starting with 0, i.e. 0, 1, 2, ..., [num_class - 1].\n",
      "  warnings.warn(label_encoder_deprecation_msg, UserWarning)\n"
     ]
    },
    {
     "name": "stderr",
     "output_type": "stream",
     "text": [
      "C:\\Users\\isaev\\miniconda3\\lib\\site-packages\\xgboost\\sklearn.py:1224: UserWarning: The use of label encoder in XGBClassifier is deprecated and will be removed in a future release. To remove this warning, do the following: 1) Pass option use_label_encoder=False when constructing XGBClassifier object; and 2) Encode your labels (y) as integers starting with 0, i.e. 0, 1, 2, ..., [num_class - 1].\n",
      "  warnings.warn(label_encoder_deprecation_msg, UserWarning)\n",
      "C:\\Users\\isaev\\miniconda3\\lib\\site-packages\\xgboost\\sklearn.py:1224: UserWarning: The use of label encoder in XGBClassifier is deprecated and will be removed in a future release. To remove this warning, do the following: 1) Pass option use_label_encoder=False when constructing XGBClassifier object; and 2) Encode your labels (y) as integers starting with 0, i.e. 0, 1, 2, ..., [num_class - 1].\n",
      "  warnings.warn(label_encoder_deprecation_msg, UserWarning)\n"
     ]
    }
   ],
   "source": [
    "pipeline = Pipeline([('TF-IDF', TfidfVectorizer(min_df=0.01, max_df=0.9)),\n",
    "                     ('GS_CV_xgb', XGBClassifier())])\n",
    "    \n",
    "grid_search_xgb = GridSearchCV(pipeline, param_grid=parameters_xgb, cv=5, scoring=\"accuracy\")\n",
    "grid_search_xgb.fit(X_train, y_train)\n",
    "\n",
    "best_clf = grid_search_xgb.best_estimator_\n",
    "y_predict_xgb = best_clf.predict(X_test)\n",
    "    \n",
    "res_xgb = calculate_metrics(y_test, y_predict_xgb, metrics=metrics)  \n",
    "compare = compare.append(res_xgb, ignore_index=True)"
   ]
  },
  {
   "cell_type": "code",
   "execution_count": 8,
   "id": "18be8085",
   "metadata": {},
   "outputs": [
    {
     "data": {
      "text/plain": [
       "Pipeline(steps=[('TF-IDF', TfidfVectorizer(max_df=0.9, min_df=0.01)),\n",
       "                ('GS_CV_xgb',\n",
       "                 XGBClassifier(base_score=0.5, booster='gbtree',\n",
       "                               colsample_bylevel=1, colsample_bynode=1,\n",
       "                               colsample_bytree=1, enable_categorical=False,\n",
       "                               eval_metric='mlogloss', gamma=0, gpu_id=-1,\n",
       "                               importance_type=None, interaction_constraints='',\n",
       "                               learning_rate=0.9, max_delta_step=0, max_depth=9,\n",
       "                               min_child_weight=1, missing=nan,\n",
       "                               monotone_constraints='()', n_estimators=500,\n",
       "                               n_jobs=4, num_parallel_tree=1, predictor='auto',\n",
       "                               random_state=50, reg_alpha=0, reg_lambda=1,\n",
       "                               scale_pos_weight=1, subsample=1,\n",
       "                               tree_method='exact', use_label_encoder='False',\n",
       "                               validate_parameters=1, verbosity=None))])"
      ]
     },
     "execution_count": 8,
     "metadata": {},
     "output_type": "execute_result"
    }
   ],
   "source": [
    "best_clf"
   ]
  },
  {
   "cell_type": "markdown",
   "id": "88de8656",
   "metadata": {},
   "source": [
    "### Выгрузка обученной модели в формате .pickle"
   ]
  },
  {
   "cell_type": "code",
   "execution_count": 6,
   "id": "f2636c15",
   "metadata": {},
   "outputs": [
    {
     "ename": "NameError",
     "evalue": "name 'grid_search_xgb' is not defined",
     "output_type": "error",
     "traceback": [
      "\u001b[1;31m---------------------------------------------------------------------------\u001b[0m",
      "\u001b[1;31mNameError\u001b[0m                                 Traceback (most recent call last)",
      "\u001b[1;32m~\\AppData\\Local\\Temp/ipykernel_13568/706307465.py\u001b[0m in \u001b[0;36m<module>\u001b[1;34m\u001b[0m\n\u001b[0;32m      1\u001b[0m \u001b[0mpath\u001b[0m \u001b[1;33m=\u001b[0m \u001b[1;34m'Sentiment_model.pickle'\u001b[0m\u001b[1;33m\u001b[0m\u001b[1;33m\u001b[0m\u001b[0m\n\u001b[0;32m      2\u001b[0m \u001b[1;32mwith\u001b[0m \u001b[0mopen\u001b[0m\u001b[1;33m(\u001b[0m\u001b[0mpath\u001b[0m\u001b[1;33m,\u001b[0m \u001b[1;34m'wb'\u001b[0m\u001b[1;33m)\u001b[0m \u001b[1;32mas\u001b[0m \u001b[0mfile\u001b[0m\u001b[1;33m:\u001b[0m\u001b[1;33m\u001b[0m\u001b[1;33m\u001b[0m\u001b[0m\n\u001b[1;32m----> 3\u001b[1;33m     \u001b[0mpickle\u001b[0m\u001b[1;33m.\u001b[0m\u001b[0mdump\u001b[0m\u001b[1;33m(\u001b[0m\u001b[0mgrid_search_xgb\u001b[0m\u001b[1;33m,\u001b[0m \u001b[0mfile\u001b[0m\u001b[1;33m)\u001b[0m\u001b[1;33m\u001b[0m\u001b[1;33m\u001b[0m\u001b[0m\n\u001b[0m",
      "\u001b[1;31mNameError\u001b[0m: name 'grid_search_xgb' is not defined"
     ]
    }
   ],
   "source": [
    "path = 'Sentiment_model.pickle'\n",
    "with open(path, 'wb') as file:\n",
    "    pickle.dump(grid_search_xgb, file)"
   ]
  },
  {
   "cell_type": "markdown",
   "id": "6d38b4e6",
   "metadata": {},
   "source": [
    "Сохраним все вычесленные метрики в единый датафрейм и выведем его."
   ]
  },
  {
   "cell_type": "code",
   "execution_count": 19,
   "id": "f587e0cb",
   "metadata": {},
   "outputs": [
    {
     "data": {
      "text/html": [
       "<div>\n",
       "<style scoped>\n",
       "    .dataframe tbody tr th:only-of-type {\n",
       "        vertical-align: middle;\n",
       "    }\n",
       "\n",
       "    .dataframe tbody tr th {\n",
       "        vertical-align: top;\n",
       "    }\n",
       "\n",
       "    .dataframe thead th {\n",
       "        text-align: right;\n",
       "    }\n",
       "</style>\n",
       "<table border=\"1\" class=\"dataframe\">\n",
       "  <thead>\n",
       "    <tr style=\"text-align: right;\">\n",
       "      <th></th>\n",
       "      <th>F1_Score</th>\n",
       "      <th>Accuracy</th>\n",
       "      <th>Prescision</th>\n",
       "      <th>Recall</th>\n",
       "    </tr>\n",
       "  </thead>\n",
       "  <tbody>\n",
       "    <tr>\n",
       "      <th>LogisticRegression</th>\n",
       "      <td>0.872653</td>\n",
       "      <td>0.803255</td>\n",
       "      <td>0.828862</td>\n",
       "      <td>0.921328</td>\n",
       "    </tr>\n",
       "    <tr>\n",
       "      <th>DecisionTree</th>\n",
       "      <td>0.914395</td>\n",
       "      <td>0.874182</td>\n",
       "      <td>0.910410</td>\n",
       "      <td>0.918415</td>\n",
       "    </tr>\n",
       "    <tr>\n",
       "      <th>Random Forest</th>\n",
       "      <td>0.847676</td>\n",
       "      <td>0.737261</td>\n",
       "      <td>0.736064</td>\n",
       "      <td>0.999184</td>\n",
       "    </tr>\n",
       "    <tr>\n",
       "      <th>XGBoost</th>\n",
       "      <td>0.915290</td>\n",
       "      <td>0.873467</td>\n",
       "      <td>0.897032</td>\n",
       "      <td>0.934307</td>\n",
       "    </tr>\n",
       "  </tbody>\n",
       "</table>\n",
       "</div>"
      ],
      "text/plain": [
       "                    F1_Score  Accuracy  Prescision    Recall\n",
       "LogisticRegression  0.872653  0.803255    0.828862  0.921328\n",
       "DecisionTree        0.914395  0.874182    0.910410  0.918415\n",
       "Random Forest       0.847676  0.737261    0.736064  0.999184\n",
       "XGBoost             0.915290  0.873467    0.897032  0.934307"
      ]
     },
     "execution_count": 19,
     "metadata": {},
     "output_type": "execute_result"
    }
   ],
   "source": [
    "compare.index = model_names\n",
    "compare"
   ]
  },
  {
   "cell_type": "markdown",
   "id": "6ec1ff24",
   "metadata": {},
   "source": [
    "### Comparison\n",
    "Для наглядности сравнения моделей, визуализируем данные по одной из метрик (в нашем случае выбираем в качестве показателя - F1 меру)"
   ]
  },
  {
   "cell_type": "code",
   "execution_count": 20,
   "id": "7f188b3c",
   "metadata": {},
   "outputs": [
    {
     "data": {
      "image/png": "[encoded data removed]",
      "text/plain": [
       "<Figure size 1296x360 with 1 Axes>"
      ]
     },
     "metadata": {
      "needs_background": "light"
     },
     "output_type": "display_data"
    }
   ],
   "source": [
    "plt.figure(figsize=(18,5))\n",
    "\n",
    "sns.pointplot(x=model_names,y='F1_Score',data=compare)\n",
    "\n",
    "plt.title(model_names)\n",
    "plt.xlabel('MODEL')\n",
    "plt.ylabel('F1_SCORE')\n",
    "plt.show()"
   ]
  },
  {
   "cell_type": "markdown",
   "id": "f74658a9",
   "metadata": {},
   "source": [
    "Вывод: Из графика выше видим, что у модели \"XGBoost\" показатель метрики F1_мера выше, чем у остальных сравниваемых моделей."
   ]
  },
  {
   "cell_type": "markdown",
   "id": "aa7db51a",
   "metadata": {},
   "source": [
    "### Подгргузка файла .pickle с обученной моделью"
   ]
  },
  {
   "cell_type": "code",
   "execution_count": 9,
   "id": "03752b09",
   "metadata": {},
   "outputs": [],
   "source": [
    "path = 'Sentiment_model.pickle'\n",
    "with open(path, 'rb') as file:\n",
    "    model = pickle.load(file)"
   ]
  },
  {
   "cell_type": "code",
   "execution_count": 10,
   "id": "dc6656c4",
   "metadata": {},
   "outputs": [],
   "source": [
    "def prediction(text):\n",
    "    texts = [text]\n",
    "    prepr_tockens = preprocessing(texts)\n",
    "    prepr_text = [' '.join(prepr_tockens)]\n",
    "\n",
    "    label_pred = model.predict(prepr_text)\n",
    "\n",
    "    if label_pred[0] == 1:\n",
    "        return 'Positive'\n",
    "    else:\n",
    "        return 'Negative'"
   ]
  },
  {
   "cell_type": "code",
   "execution_count": 15,
   "id": "97f63cda",
   "metadata": {},
   "outputs": [
    {
     "name": "stderr",
     "output_type": "stream",
     "text": [
      "C:\\Users\\isaev\\AppData\\Local\\Temp/ipykernel_13568/623599038.py:3: TqdmDeprecationWarning: This function will be removed in tqdm==5.0.0\n",
      "Please use `tqdm.notebook.tqdm` instead of `tqdm.tqdm_notebook`\n",
      "  for i in tqdm(range(len(texts))):\n"
     ]
    },
    {
     "data": {
      "application/vnd.jupyter.widget-view+json": {
       "model_id": "0e39ea7f0a10411cba7b686f45eb0e80",
       "version_major": 2,
       "version_minor": 0
      },
      "text/plain": [
       "  0%|          | 0/1 [00:00<?, ?it/s]"
      ]
     },
     "metadata": {},
     "output_type": "display_data"
    },
    {
     "data": {
      "text/plain": [
       "'Positive'"
      ]
     },
     "execution_count": 15,
     "metadata": {},
     "output_type": "execute_result"
    }
   ],
   "source": [
    "lemma = pymorphy2.MorphAnalyzer()\n",
    "spec_chars = string.punctuation + string.digits + '\\n\\xa0«»\\t-—–“”→...'\n",
    "prediction('Я люблю маму')"
   ]
  },
  {
   "cell_type": "code",
   "execution_count": 18,
   "id": "392a3a9f",
   "metadata": {},
   "outputs": [
    {
     "name": "stderr",
     "output_type": "stream",
     "text": [
      "C:\\Users\\isaev\\AppData\\Local\\Temp/ipykernel_13568/623599038.py:3: TqdmDeprecationWarning: This function will be removed in tqdm==5.0.0\n",
      "Please use `tqdm.notebook.tqdm` instead of `tqdm.tqdm_notebook`\n",
      "  for i in tqdm(range(len(texts))):\n"
     ]
    },
    {
     "data": {
      "application/vnd.jupyter.widget-view+json": {
       "model_id": "f02625a4f5c04bdea7cc754ebe3d34ee",
       "version_major": 2,
       "version_minor": 0
      },
      "text/plain": [
       "  0%|          | 0/1 [00:00<?, ?it/s]"
      ]
     },
     "metadata": {},
     "output_type": "display_data"
    },
    {
     "data": {
      "text/plain": [
       "'Negative'"
      ]
     },
     "execution_count": 18,
     "metadata": {},
     "output_type": "execute_result"
    }
   ],
   "source": [
    "prediction('Смартфон плохой')"
   ]
  },
  {
   "cell_type": "code",
   "execution_count": 19,
   "id": "a6a27426",
   "metadata": {},
   "outputs": [
    {
     "name": "stderr",
     "output_type": "stream",
     "text": [
      "C:\\Users\\isaev\\AppData\\Local\\Temp/ipykernel_13568/623599038.py:3: TqdmDeprecationWarning: This function will be removed in tqdm==5.0.0\n",
      "Please use `tqdm.notebook.tqdm` instead of `tqdm.tqdm_notebook`\n",
      "  for i in tqdm(range(len(texts))):\n"
     ]
    },
    {
     "data": {
      "application/vnd.jupyter.widget-view+json": {
       "model_id": "1651ecf5231e47739453a8544569b6e7",
       "version_major": 2,
       "version_minor": 0
      },
      "text/plain": [
       "  0%|          | 0/1 [00:00<?, ?it/s]"
      ]
     },
     "metadata": {},
     "output_type": "display_data"
    },
    {
     "data": {
      "text/plain": [
       "'Positive'"
      ]
     },
     "execution_count": 19,
     "metadata": {},
     "output_type": "execute_result"
    }
   ],
   "source": [
    "prediction('Я себя отлично чувствую')"
   ]
  },
  {
   "cell_type": "code",
   "execution_count": 23,
   "id": "c842c676",
   "metadata": {},
   "outputs": [
    {
     "name": "stderr",
     "output_type": "stream",
     "text": [
      "C:\\Users\\isaev\\AppData\\Local\\Temp/ipykernel_13568/623599038.py:3: TqdmDeprecationWarning: This function will be removed in tqdm==5.0.0\n",
      "Please use `tqdm.notebook.tqdm` instead of `tqdm.tqdm_notebook`\n",
      "  for i in tqdm(range(len(texts))):\n"
     ]
    },
    {
     "data": {
      "application/vnd.jupyter.widget-view+json": {
       "model_id": "85a7c8c767184df9ae0f573572ba336c",
       "version_major": 2,
       "version_minor": 0
      },
      "text/plain": [
       "  0%|          | 0/1 [00:00<?, ?it/s]"
      ]
     },
     "metadata": {},
     "output_type": "display_data"
    },
    {
     "data": {
      "text/plain": [
       "'Negative'"
      ]
     },
     "execution_count": 23,
     "metadata": {},
     "output_type": "execute_result"
    }
   ],
   "source": [
    "prediction('Я плохо себя чувствую')"
   ]
  },
  {
   "cell_type": "code",
   "execution_count": null,
   "id": "b81c510d",
   "metadata": {},
   "outputs": [],
   "source": []
  }
 ],
 "metadata": {
  "kernelspec": {
   "display_name": "Python 3 (ipykernel)",
   "language": "python",
   "name": "python3"
  },
  "language_info": {
   "codemirror_mode": {
    "name": "ipython",
    "version": 3
   },
   "file_extension": ".py",
   "mimetype": "text/x-python",
   "name": "python",
   "nbconvert_exporter": "python",
   "pygments_lexer": "ipython3",
   "version": "3.9.5"
  }
 },
 "nbformat": 4,
 "nbformat_minor": 5
}
